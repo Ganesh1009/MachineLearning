{
 "cells": [
  {
   "cell_type": "code",
   "execution_count": 1,
   "metadata": {},
   "outputs": [],
   "source": [
    "import pandas as pd\n",
    "import math\n",
    "import numpy as np\n",
    "\n",
    "### Reading Training data\n",
    "df = pd.read_csv('DWH_Training.csv', header=None)\n",
    "df.columns=['S.No','Height','Weight', 'Label']"
   ]
  },
  {
   "cell_type": "code",
   "execution_count": null,
   "metadata": {},
   "outputs": [],
   "source": []
  },
  {
   "cell_type": "code",
   "execution_count": 2,
   "metadata": {},
   "outputs": [],
   "source": [
    "def Distance(data1, data2):\n",
    "    \n",
    "    a=pow(data1['Height'] - data2['Height'], 2)\n",
    "    b=pow(data1['Weight'] - data2['Weight'], 2)\n",
    "    return math.sqrt(a+b)\n",
    " "
   ]
  },
  {
   "cell_type": "code",
   "execution_count": 12,
   "metadata": {},
   "outputs": [],
   "source": [
    "def nearestNeighbors(trainingData, testData, k):\n",
    "    distances = []\n",
    "    for x in range(len(trainingData)):\n",
    "        distance = Distance(testData, trainingData.iloc[x])\n",
    "        distances.append(distance)\n",
    "        sortedDist=np.argsort(distances) #returns index of sorted distance asc\n",
    "    return sortedDist[:k]"
   ]
  },
  {
   "cell_type": "code",
   "execution_count": 5,
   "metadata": {},
   "outputs": [],
   "source": [
    "### Returns the class Label which has maximum votes from the K-neighbors\n",
    "def maxVotes(train,neighbors,test_row,k):\n",
    "    counter=0\n",
    "    for i in range(len(neighbors)):\n",
    "        if(train.iloc[neighbors[i]]['Label']==1):\n",
    "            counter+=1\n",
    "    if(counter<(k//2+1)):\n",
    "        return -1;\n",
    "    return 1"
   ]
  },
  {
   "cell_type": "code",
   "execution_count": 6,
   "metadata": {},
   "outputs": [],
   "source": [
    "def getFoldSize(data,nFolds):\n",
    "    len_data=len(data)\n",
    "    fold_size=len_data//nFolds \n",
    "    return fold_size"
   ]
  },
  {
   "cell_type": "code",
   "execution_count": 7,
   "metadata": {},
   "outputs": [],
   "source": [
    "def splitData(index,fold_size,nFolds,data):\n",
    "    current_index=index*fold_size\n",
    "    if(index==nFolds-1):\n",
    "        training_data=data[0:current_index]\n",
    "        test_data=data[current_index:]\n",
    "    else:\n",
    "        training_data=data[0:current_index].append(data[current_index+fold_size:])\n",
    "        test_data=data[current_index:current_index+fold_size]\n",
    "    return training_data,test_data\n",
    "    "
   ]
  },
  {
   "cell_type": "code",
   "execution_count": 22,
   "metadata": {},
   "outputs": [],
   "source": [
    "def crossValidation(t,k,data,nFolds):\n",
    "    print(\"FOr k=\",k)\n",
    "    for i in range(t):\n",
    "        foldSize=getFoldSize(data,nFolds)\n",
    "        accuracy=[]\n",
    "        for index in range(nFolds):\n",
    "            training_data,test_data=splitData(index,foldSize,nFolds,data)\n",
    "            correctPrediction=0\n",
    "            test=len(test_data)\n",
    "            for j in range(test):\n",
    "                test_row=test_data.iloc[j]\n",
    "                neighbors=nearestNeighbors(training_data,test_row,k)\n",
    "                predicted_label=maxVotes(training_data,neighbors,test_row,k)\n",
    "                if(predicted_label==int(test_row[\"Label\"])):\n",
    "                    correctPrediction+=1\n",
    "                else:\n",
    "                    pass\n",
    "            acc=(correctPrediction/test*100)\n",
    "            accuracy.append(acc)\n",
    "        \n",
    "        print(\"average accuracy:\",np.sum(accuracy)/len(accuracy))"
   ]
  },
  {
   "cell_type": "code",
   "execution_count": 26,
   "metadata": {},
   "outputs": [
    {
     "name": "stdout",
     "output_type": "stream",
     "text": [
      "FOr k= 3\n",
      "average accuracy: 90.17391304347825\n"
     ]
    }
   ],
   "source": [
    "# t- times\n",
    "t = 1\n",
    "# Number of Folds\n",
    "nFlods = 10\n",
    "crossValidation(t,3,df,nFlods)"
   ]
  },
  {
   "cell_type": "code",
   "execution_count": 25,
   "metadata": {},
   "outputs": [
    {
     "name": "stdout",
     "output_type": "stream",
     "text": [
      "FOr k= 5\n",
      "average accuracy: 91.84347826086957\n"
     ]
    }
   ],
   "source": [
    "crossValidation(t,5,df,nFlods)"
   ]
  },
  {
   "cell_type": "code",
   "execution_count": 24,
   "metadata": {},
   "outputs": [
    {
     "name": "stdout",
     "output_type": "stream",
     "text": [
      "FOr k= 10\n",
      "average accuracy: 90.10434782608694\n"
     ]
    }
   ],
   "source": [
    "crossValidation(t,10,df,nFlods)"
   ]
  }
 ],
 "metadata": {
  "kernelspec": {
   "display_name": "Python 3",
   "language": "python",
   "name": "python3"
  },
  "language_info": {
   "codemirror_mode": {
    "name": "ipython",
    "version": 3
   },
   "file_extension": ".py",
   "mimetype": "text/x-python",
   "name": "python",
   "nbconvert_exporter": "python",
   "pygments_lexer": "ipython3",
   "version": "3.6.7"
  }
 },
 "nbformat": 4,
 "nbformat_minor": 2
}
